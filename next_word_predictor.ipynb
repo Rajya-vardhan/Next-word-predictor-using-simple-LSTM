{
  "nbformat": 4,
  "nbformat_minor": 0,
  "metadata": {
    "colab": {
      "provenance": []
    },
    "kernelspec": {
      "name": "python3",
      "display_name": "Python 3"
    },
    "language_info": {
      "name": "python"
    }
  },
  "cells": [
    {
      "cell_type": "markdown",
      "source": [
        "Data/text format of input:"
      ],
      "metadata": {
        "id": "P6dWORxe5bpW"
      }
    },
    {
      "cell_type": "code",
      "execution_count": 1,
      "metadata": {
        "id": "WSyKLJpWxP8v"
      },
      "outputs": [],
      "source": [
        "faqs = \"\"\"About the Program\n",
        "What is the course fee for  Data Science Mentorship Program (DSMP 2023)\n",
        "The course follows a monthly subscription model where you have to make monthly payments of Rs 799/month.\n",
        "What is the total duration of the course?\n",
        "The total duration of the course is 7 months. So the total course fee becomes 799*7 = Rs 5600(approx.)\n",
        "What is the syllabus of the mentorship program?\n",
        "We will be covering the following modules:\n",
        "Python Fundamentals\n",
        "Python libraries for Data Science\n",
        "Data Analysis\n",
        "SQL for Data Science\n",
        "Maths for Machine Learning\n",
        "ML Algorithms\n",
        "Practical ML\n",
        "MLOPs\n",
        "Case studies\n",
        "You can check the detailed syllabus here - https://learnwith.campusx.in/courses/CampusX-Data-Science-Mentorship-Program-637339afe4b0615a1bbed390\n",
        "Will Deep Learning and NLP be a part of this program?\n",
        "No, NLP and Deep Learning both are not a part of this program’s curriculum.\n",
        "What if I miss a live session? Will I get a recording of the session?\n",
        "Yes all our sessions are recorded, so even if you miss a session you can go back and watch the recording.\n",
        "Where can I find the class schedule?\n",
        "Checkout this google sheet to see month by month time table of the course - https://docs.google.com/spreadsheets/d/16OoTax_A6ORAeCg4emgexhqqPv3noQPYKU7RJ6ArOzk/edit?usp=sharing.\n",
        "What is the time duration of all the live sessions?\n",
        "Roughly, all the sessions last 2 hours.\n",
        "What is the language spoken by the instructor during the sessions?\n",
        "Hinglish\n",
        "How will I be informed about the upcoming class?\n",
        "You will get a mail from our side before every paid session once you become a paid user.\n",
        "Can I do this course if I am from a non-tech background?\n",
        "Yes, absolutely.\n",
        "I am late, can I join the program in the middle?\n",
        "Absolutely, you can join the program anytime.\n",
        "If I join/pay in the middle, will I be able to see all the past lectures?\n",
        "Yes, once you make the payment you will be able to see all the past content in your dashboard.\n",
        "Where do I have to submit the task?\n",
        "You don’t have to submit the task. We will provide you with the solutions, you have to self evaluate the task yourself.\n",
        "Will we do case studies in the program?\n",
        "Yes.\n",
        "Where can we contact you?\n",
        "You can mail us at nitish.campusx@gmail.com\n",
        "Payment/Registration related questions\n",
        "Where do we have to make our payments? Your YouTube channel or website?\n",
        "You have to make all your monthly payments on our website. Here is the link for our website - https://learnwith.campusx.in/\n",
        "Can we pay the entire amount of Rs 5600 all at once?\n",
        "Unfortunately no, the program follows a monthly subscription model.\n",
        "What is the validity of monthly subscription? Suppose if I pay on 15th Jan, then do I have to pay again on 1st Feb or 15th Feb\n",
        "15th Feb. The validity period is 30 days from the day you make the payment. So essentially you can join anytime you don’t have to wait for a month to end.\n",
        "What if I don’t like the course after making the payment. What is the refund policy?\n",
        "You get a 7 days refund period from the day you have made the payment.\n",
        "I am living outside India and I am not able to make the payment on the website, what should I do?\n",
        "You have to contact us by sending a mail at nitish.campusx@gmail.com\n",
        "Post registration queries\n",
        "Till when can I view the paid videos on the website?\n",
        "This one is tricky, so read carefully. You can watch the videos till your subscription is valid. Suppose you have purchased subscription on 21st Jan, you will be able to watch all the past paid sessions in the period of 21st Jan to 20th Feb. But after 21st Feb you will have to purchase the subscription again.\n",
        "But once the course is over and you have paid us Rs 5600(or 7 installments of Rs 799) you will be able to watch the paid sessions till Aug 2024.\n",
        "Why lifetime validity is not provided?\n",
        "Because of the low course fee.\n",
        "Where can I reach out in case of a doubt after the session?\n",
        "You will have to fill a google form provided in your dashboard and our team will contact you for a 1 on 1 doubt clearance session\n",
        "If I join the program late, can I still ask past week doubts?\n",
        "Yes, just select past week doubt in the doubt clearance google form.\n",
        "I am living outside India and I am not able to make the payment on the website, what should I do?\n",
        "You have to contact us by sending a mail at nitish.campusx@gmai.com\n",
        "Certificate and Placement Assistance related queries\n",
        "What is the criteria to get the certificate?\n",
        "There are 2 criterias:\n",
        "You have to pay the entire fee of Rs 5600\n",
        "You have to attempt all the course assessments.\n",
        "I am joining late. How can I pay payment of the earlier months?\n",
        "You will get a link to pay fee of earlier months in your dashboard once you pay for the current month.\n",
        "I have read that Placement assistance is a part of this program. What comes under Placement assistance?\n",
        "This is to clarify that Placement assistance does not mean Placement guarantee. So we dont guarantee you any jobs or for that matter even interview calls. So if you are planning to join this course just for placements, I am afraid you will be disappointed. Here is what comes under placement assistance\n",
        "Portfolio Building sessions\n",
        "Soft skill sessions\n",
        "Sessions with industry mentors\n",
        "Discussion on Job hunting strategies\n",
        "\"\"\""
      ]
    },
    {
      "cell_type": "code",
      "source": [
        "import tensorflow\n",
        "from tensorflow.keras.preprocessing.text import Tokenizer\n"
      ],
      "metadata": {
        "id": "PTpbTbjAxqsJ"
      },
      "execution_count": 27,
      "outputs": []
    },
    {
      "cell_type": "markdown",
      "source": [
        "Vectorization:"
      ],
      "metadata": {
        "id": "fgAHh6Nv4xWl"
      }
    },
    {
      "cell_type": "code",
      "source": [
        "tokenizer=Tokenizer()\n",
        "tokenizer.fit_on_texts([faqs])\n",
        "len(tokenizer.word_index)"
      ],
      "metadata": {
        "colab": {
          "base_uri": "https://localhost:8080/"
        },
        "id": "_Od0gmfhxy40",
        "outputId": "59466251-3fbc-42e7-8bd4-f42dac032ba0"
      },
      "execution_count": 6,
      "outputs": [
        {
          "output_type": "execute_result",
          "data": {
            "text/plain": [
              "282"
            ]
          },
          "metadata": {},
          "execution_count": 6
        }
      ]
    },
    {
      "cell_type": "markdown",
      "source": [
        "Forming labelled dataset from the faqs list for supervised learning:"
      ],
      "metadata": {
        "id": "JRJ31fqx4nI4"
      }
    },
    {
      "cell_type": "code",
      "source": [
        "input_tokens=[]\n",
        "for sentence in faqs.split('\\n'):\n",
        "  # print(sentence)\n",
        "  tokenized_sentence=tokenizer.texts_to_sequences([sentence])[0]\n",
        "  for i in range(1,len(tokenized_sentence)):\n",
        "    input_tokens.append(tokenized_sentence[:i+1])"
      ],
      "metadata": {
        "id": "G4W4w2w5yP9V"
      },
      "execution_count": 17,
      "outputs": []
    },
    {
      "cell_type": "code",
      "source": [
        "input_tokens\n",
        "from tensorflow.keras.utils import pad_sequences\n",
        "max_len=max([len(x) for x in input_tokens])\n",
        "max_len"
      ],
      "metadata": {
        "colab": {
          "base_uri": "https://localhost:8080/"
        },
        "id": "5zuWKnOWyphH",
        "outputId": "d6fc96f6-6fe0-460f-dc98-5198dd76fbb4"
      },
      "execution_count": 19,
      "outputs": [
        {
          "output_type": "execute_result",
          "data": {
            "text/plain": [
              "57"
            ]
          },
          "metadata": {},
          "execution_count": 19
        }
      ]
    },
    {
      "cell_type": "markdown",
      "source": [
        "Zero padding (forming sparse dataset):"
      ],
      "metadata": {
        "id": "B9bTyQAO41OK"
      }
    },
    {
      "cell_type": "code",
      "source": [
        "padded_input_tokens=pad_sequences(input_tokens,maxlen=max_len,padding='pre')\n",
        "padded_input_tokens"
      ],
      "metadata": {
        "colab": {
          "base_uri": "https://localhost:8080/"
        },
        "id": "xRBNT3Chzehp",
        "outputId": "65de7c8a-8a47-46a4-851f-4797a078613f"
      },
      "execution_count": 21,
      "outputs": [
        {
          "output_type": "execute_result",
          "data": {
            "text/plain": [
              "array([[  0,   0,   0, ...,   0,  93,   1],\n",
              "       [  0,   0,   0, ...,  93,   1,  13],\n",
              "       [  0,   0,   0, ...,   0,  11,   7],\n",
              "       ...,\n",
              "       [  0,   0,   0, ..., 279,  18, 280],\n",
              "       [  0,   0,   0, ...,  18, 280, 281],\n",
              "       [  0,   0,   0, ..., 280, 281, 282]], dtype=int32)"
            ]
          },
          "metadata": {},
          "execution_count": 21
        }
      ]
    },
    {
      "cell_type": "markdown",
      "source": [
        "Extracting input column:"
      ],
      "metadata": {
        "id": "kzEB0uT848c4"
      }
    },
    {
      "cell_type": "code",
      "source": [
        "X=padded_input_tokens[:,:-1]\n",
        "X.shape"
      ],
      "metadata": {
        "colab": {
          "base_uri": "https://localhost:8080/"
        },
        "id": "Ezr-72DO1GB0",
        "outputId": "e5dd62ca-3ccf-43fc-ca37-d83cebfa19b4"
      },
      "execution_count": 22,
      "outputs": [
        {
          "output_type": "execute_result",
          "data": {
            "text/plain": [
              "(863, 56)"
            ]
          },
          "metadata": {},
          "execution_count": 22
        }
      ]
    },
    {
      "cell_type": "markdown",
      "source": [
        "Extracting output column:"
      ],
      "metadata": {
        "id": "mtm3iF6D5AXv"
      }
    },
    {
      "cell_type": "code",
      "source": [
        "Y=padded_input_tokens[:,-1]\n",
        "Y.shape"
      ],
      "metadata": {
        "colab": {
          "base_uri": "https://localhost:8080/"
        },
        "id": "rG1I8OKl1Ssp",
        "outputId": "714fb5d3-62bc-4b28-bd7a-5defc371b8f7"
      },
      "execution_count": 23,
      "outputs": [
        {
          "output_type": "execute_result",
          "data": {
            "text/plain": [
              "(863,)"
            ]
          },
          "metadata": {},
          "execution_count": 23
        }
      ]
    },
    {
      "cell_type": "markdown",
      "source": [
        "->Using multiclass classification approach and hence one hot encoding on output\n",
        "  column:"
      ],
      "metadata": {
        "id": "PrxVbrIC5IYm"
      }
    },
    {
      "cell_type": "code",
      "source": [
        "from tensorflow.keras.utils import to_categorical\n",
        "y=to_categorical(Y,num_classes=283)\n",
        "y"
      ],
      "metadata": {
        "colab": {
          "base_uri": "https://localhost:8080/"
        },
        "id": "TBlcTKoD1YrL",
        "outputId": "109649b3-2c0d-4387-80ed-f7d36a2609f8"
      },
      "execution_count": 25,
      "outputs": [
        {
          "output_type": "execute_result",
          "data": {
            "text/plain": [
              "array([[0., 1., 0., ..., 0., 0., 0.],\n",
              "       [0., 0., 0., ..., 0., 0., 0.],\n",
              "       [0., 0., 0., ..., 0., 0., 0.],\n",
              "       ...,\n",
              "       [0., 0., 0., ..., 1., 0., 0.],\n",
              "       [0., 0., 0., ..., 0., 1., 0.],\n",
              "       [0., 0., 0., ..., 0., 0., 1.]], dtype=float32)"
            ]
          },
          "metadata": {},
          "execution_count": 25
        }
      ]
    },
    {
      "cell_type": "code",
      "source": [
        "y.shape"
      ],
      "metadata": {
        "colab": {
          "base_uri": "https://localhost:8080/"
        },
        "id": "JVecsdzO1sKn",
        "outputId": "09040188-6395-4909-8ae2-efa76219d448"
      },
      "execution_count": 26,
      "outputs": [
        {
          "output_type": "execute_result",
          "data": {
            "text/plain": [
              "(863, 283)"
            ]
          },
          "metadata": {},
          "execution_count": 26
        }
      ]
    },
    {
      "cell_type": "code",
      "source": [
        "from tensorflow.keras.models import Sequential\n",
        "from tensorflow.keras.layers import Embedding,Dense,LSTM"
      ],
      "metadata": {
        "id": "sVT1OC3e1til"
      },
      "execution_count": 28,
      "outputs": []
    },
    {
      "cell_type": "markdown",
      "source": [
        "Architecture:"
      ],
      "metadata": {
        "id": "fEfENRT95Fdh"
      }
    },
    {
      "cell_type": "code",
      "source": [
        "# architecture\n",
        "model=Sequential()\n",
        "model.add(Embedding(283,100,input_length=56))\n",
        "model.add(LSTM(150))\n",
        "# 150 is number of nodes in neural network\n",
        "model.add(Dense(283,activation='sigmoid'))\n",
        "model.compile(loss='categorical_crossentropy',optimizer='adam',metrics=['accuracy'])\n",
        "model.summary()"
      ],
      "metadata": {
        "colab": {
          "base_uri": "https://localhost:8080/"
        },
        "id": "wQiMPiZW2RCD",
        "outputId": "27da3ea7-4fdb-4716-a209-e233440ab52e"
      },
      "execution_count": 29,
      "outputs": [
        {
          "output_type": "stream",
          "name": "stdout",
          "text": [
            "Model: \"sequential\"\n",
            "_________________________________________________________________\n",
            " Layer (type)                Output Shape              Param #   \n",
            "=================================================================\n",
            " embedding (Embedding)       (None, 56, 100)           28300     \n",
            "                                                                 \n",
            " lstm (LSTM)                 (None, 150)               150600    \n",
            "                                                                 \n",
            " dense (Dense)               (None, 283)               42733     \n",
            "                                                                 \n",
            "=================================================================\n",
            "Total params: 221633 (865.75 KB)\n",
            "Trainable params: 221633 (865.75 KB)\n",
            "Non-trainable params: 0 (0.00 Byte)\n",
            "_________________________________________________________________\n"
          ]
        }
      ]
    },
    {
      "cell_type": "markdown",
      "source": [
        "Training"
      ],
      "metadata": {
        "id": "1ZclaNqr4hDM"
      }
    },
    {
      "cell_type": "code",
      "source": [
        "model.fit(X,y,epochs=100)"
      ],
      "metadata": {
        "colab": {
          "base_uri": "https://localhost:8080/"
        },
        "id": "2m2VjBEW28kL",
        "outputId": "1a5ae2f6-8c98-4920-afbe-b0f25eac3def"
      },
      "execution_count": 30,
      "outputs": [
        {
          "output_type": "stream",
          "name": "stdout",
          "text": [
            "Epoch 1/100\n",
            "27/27 [==============================] - 6s 128ms/step - loss: 5.4380 - accuracy: 0.0533\n",
            "Epoch 2/100\n",
            "27/27 [==============================] - 2s 88ms/step - loss: 5.0885 - accuracy: 0.0776\n",
            "Epoch 3/100\n",
            "27/27 [==============================] - 2s 85ms/step - loss: 5.0183 - accuracy: 0.0776\n",
            "Epoch 4/100\n",
            "27/27 [==============================] - 2s 86ms/step - loss: 4.9956 - accuracy: 0.0776\n",
            "Epoch 5/100\n",
            "27/27 [==============================] - 2s 88ms/step - loss: 4.9541 - accuracy: 0.0776\n",
            "Epoch 6/100\n",
            "27/27 [==============================] - 5s 175ms/step - loss: 4.8847 - accuracy: 0.0776\n",
            "Epoch 7/100\n",
            "27/27 [==============================] - 2s 87ms/step - loss: 4.7611 - accuracy: 0.0915\n",
            "Epoch 8/100\n",
            "27/27 [==============================] - 2s 88ms/step - loss: 4.5824 - accuracy: 0.1205\n",
            "Epoch 9/100\n",
            "27/27 [==============================] - 2s 85ms/step - loss: 4.3688 - accuracy: 0.1460\n",
            "Epoch 10/100\n",
            "27/27 [==============================] - 2s 85ms/step - loss: 4.1788 - accuracy: 0.1912\n",
            "Epoch 11/100\n",
            "27/27 [==============================] - 4s 133ms/step - loss: 3.9385 - accuracy: 0.2213\n",
            "Epoch 12/100\n",
            "27/27 [==============================] - 2s 86ms/step - loss: 3.7203 - accuracy: 0.2526\n",
            "Epoch 13/100\n",
            "27/27 [==============================] - 2s 86ms/step - loss: 3.5009 - accuracy: 0.2816\n",
            "Epoch 14/100\n",
            "27/27 [==============================] - 2s 87ms/step - loss: 3.3002 - accuracy: 0.3129\n",
            "Epoch 15/100\n",
            "27/27 [==============================] - 2s 92ms/step - loss: 3.1038 - accuracy: 0.3476\n",
            "Epoch 16/100\n",
            "27/27 [==============================] - 3s 125ms/step - loss: 2.9236 - accuracy: 0.3696\n",
            "Epoch 17/100\n",
            "27/27 [==============================] - 2s 88ms/step - loss: 2.7318 - accuracy: 0.4148\n",
            "Epoch 18/100\n",
            "27/27 [==============================] - 2s 87ms/step - loss: 2.5595 - accuracy: 0.4531\n",
            "Epoch 19/100\n",
            "27/27 [==============================] - 2s 86ms/step - loss: 2.4036 - accuracy: 0.4878\n",
            "Epoch 20/100\n",
            "27/27 [==============================] - 3s 118ms/step - loss: 2.2539 - accuracy: 0.5041\n",
            "Epoch 21/100\n",
            "27/27 [==============================] - 3s 107ms/step - loss: 2.1091 - accuracy: 0.5423\n",
            "Epoch 22/100\n",
            "27/27 [==============================] - 2s 87ms/step - loss: 1.9739 - accuracy: 0.5689\n",
            "Epoch 23/100\n",
            "27/27 [==============================] - 2s 86ms/step - loss: 1.8474 - accuracy: 0.6083\n",
            "Epoch 24/100\n",
            "27/27 [==============================] - 2s 87ms/step - loss: 1.7273 - accuracy: 0.6280\n",
            "Epoch 25/100\n",
            "27/27 [==============================] - 3s 124ms/step - loss: 1.6142 - accuracy: 0.6593\n",
            "Epoch 26/100\n",
            "27/27 [==============================] - 2s 89ms/step - loss: 1.5036 - accuracy: 0.7010\n",
            "Epoch 27/100\n",
            "27/27 [==============================] - 2s 85ms/step - loss: 1.4174 - accuracy: 0.7242\n",
            "Epoch 28/100\n",
            "27/27 [==============================] - 2s 92ms/step - loss: 1.3184 - accuracy: 0.7439\n",
            "Epoch 29/100\n",
            "27/27 [==============================] - 2s 89ms/step - loss: 1.2297 - accuracy: 0.7740\n",
            "Epoch 30/100\n",
            "27/27 [==============================] - 4s 137ms/step - loss: 1.1555 - accuracy: 0.7903\n",
            "Epoch 31/100\n",
            "27/27 [==============================] - 3s 92ms/step - loss: 1.0820 - accuracy: 0.8239\n",
            "Epoch 32/100\n",
            "27/27 [==============================] - 2s 88ms/step - loss: 1.0098 - accuracy: 0.8378\n",
            "Epoch 33/100\n",
            "27/27 [==============================] - 2s 88ms/step - loss: 0.9504 - accuracy: 0.8424\n",
            "Epoch 34/100\n",
            "27/27 [==============================] - 3s 96ms/step - loss: 0.8895 - accuracy: 0.8575\n",
            "Epoch 35/100\n",
            "27/27 [==============================] - 4s 130ms/step - loss: 0.8390 - accuracy: 0.8679\n",
            "Epoch 36/100\n",
            "27/27 [==============================] - 3s 95ms/step - loss: 0.7899 - accuracy: 0.8806\n",
            "Epoch 37/100\n",
            "27/27 [==============================] - 2s 89ms/step - loss: 0.7421 - accuracy: 0.8864\n",
            "Epoch 38/100\n",
            "27/27 [==============================] - 2s 90ms/step - loss: 0.6967 - accuracy: 0.8876\n",
            "Epoch 39/100\n",
            "27/27 [==============================] - 3s 128ms/step - loss: 0.6577 - accuracy: 0.9003\n",
            "Epoch 40/100\n",
            "27/27 [==============================] - 3s 93ms/step - loss: 0.6206 - accuracy: 0.9061\n",
            "Epoch 41/100\n",
            "27/27 [==============================] - 2s 91ms/step - loss: 0.5886 - accuracy: 0.9177\n",
            "Epoch 42/100\n",
            "27/27 [==============================] - 2s 87ms/step - loss: 0.5591 - accuracy: 0.9131\n",
            "Epoch 43/100\n",
            "27/27 [==============================] - 2s 87ms/step - loss: 0.5342 - accuracy: 0.9143\n",
            "Epoch 44/100\n",
            "27/27 [==============================] - 4s 139ms/step - loss: 0.5056 - accuracy: 0.9224\n",
            "Epoch 45/100\n",
            "27/27 [==============================] - 2s 90ms/step - loss: 0.4809 - accuracy: 0.9247\n",
            "Epoch 46/100\n",
            "27/27 [==============================] - 2s 91ms/step - loss: 0.4580 - accuracy: 0.9270\n",
            "Epoch 47/100\n",
            "27/27 [==============================] - 2s 85ms/step - loss: 0.4378 - accuracy: 0.9328\n",
            "Epoch 48/100\n",
            "27/27 [==============================] - 2s 90ms/step - loss: 0.4187 - accuracy: 0.9351\n",
            "Epoch 49/100\n",
            "27/27 [==============================] - 3s 124ms/step - loss: 0.4006 - accuracy: 0.9363\n",
            "Epoch 50/100\n",
            "27/27 [==============================] - 2s 89ms/step - loss: 0.3829 - accuracy: 0.9363\n",
            "Epoch 51/100\n",
            "27/27 [==============================] - 2s 87ms/step - loss: 0.3685 - accuracy: 0.9363\n",
            "Epoch 52/100\n",
            "27/27 [==============================] - 3s 93ms/step - loss: 0.3549 - accuracy: 0.9374\n",
            "Epoch 53/100\n",
            "27/27 [==============================] - 3s 129ms/step - loss: 0.3412 - accuracy: 0.9409\n",
            "Epoch 54/100\n",
            "27/27 [==============================] - 3s 96ms/step - loss: 0.3307 - accuracy: 0.9409\n",
            "Epoch 55/100\n",
            "27/27 [==============================] - 2s 89ms/step - loss: 0.3177 - accuracy: 0.9467\n",
            "Epoch 56/100\n",
            "27/27 [==============================] - 2s 90ms/step - loss: 0.3064 - accuracy: 0.9397\n",
            "Epoch 57/100\n",
            "27/27 [==============================] - 2s 88ms/step - loss: 0.2950 - accuracy: 0.9455\n",
            "Epoch 58/100\n",
            "27/27 [==============================] - 4s 134ms/step - loss: 0.2859 - accuracy: 0.9421\n",
            "Epoch 59/100\n",
            "27/27 [==============================] - 2s 87ms/step - loss: 0.2765 - accuracy: 0.9479\n",
            "Epoch 60/100\n",
            "27/27 [==============================] - 2s 88ms/step - loss: 0.2685 - accuracy: 0.9479\n",
            "Epoch 61/100\n",
            "27/27 [==============================] - 3s 93ms/step - loss: 0.2617 - accuracy: 0.9409\n",
            "Epoch 62/100\n",
            "27/27 [==============================] - 3s 94ms/step - loss: 0.2524 - accuracy: 0.9444\n",
            "Epoch 63/100\n",
            "27/27 [==============================] - 4s 132ms/step - loss: 0.2468 - accuracy: 0.9421\n",
            "Epoch 64/100\n",
            "27/27 [==============================] - 2s 90ms/step - loss: 0.2373 - accuracy: 0.9479\n",
            "Epoch 65/100\n",
            "27/27 [==============================] - 2s 86ms/step - loss: 0.2344 - accuracy: 0.9467\n",
            "Epoch 66/100\n",
            "27/27 [==============================] - 2s 88ms/step - loss: 0.2287 - accuracy: 0.9421\n",
            "Epoch 67/100\n",
            "27/27 [==============================] - 3s 122ms/step - loss: 0.2221 - accuracy: 0.9479\n",
            "Epoch 68/100\n",
            "27/27 [==============================] - 3s 105ms/step - loss: 0.2180 - accuracy: 0.9467\n",
            "Epoch 69/100\n",
            "27/27 [==============================] - 2s 92ms/step - loss: 0.2136 - accuracy: 0.9455\n",
            "Epoch 70/100\n",
            "27/27 [==============================] - 2s 91ms/step - loss: 0.2086 - accuracy: 0.9467\n",
            "Epoch 71/100\n",
            "27/27 [==============================] - 2s 88ms/step - loss: 0.2063 - accuracy: 0.9432\n",
            "Epoch 72/100\n",
            "27/27 [==============================] - 3s 130ms/step - loss: 0.2005 - accuracy: 0.9479\n",
            "Epoch 73/100\n",
            "27/27 [==============================] - 2s 86ms/step - loss: 0.1952 - accuracy: 0.9444\n",
            "Epoch 74/100\n",
            "27/27 [==============================] - 2s 89ms/step - loss: 0.1911 - accuracy: 0.9397\n",
            "Epoch 75/100\n",
            "27/27 [==============================] - 2s 87ms/step - loss: 0.1869 - accuracy: 0.9467\n",
            "Epoch 76/100\n",
            "27/27 [==============================] - 2s 92ms/step - loss: 0.1843 - accuracy: 0.9502\n",
            "Epoch 77/100\n",
            "27/27 [==============================] - 4s 135ms/step - loss: 0.1829 - accuracy: 0.9467\n",
            "Epoch 78/100\n",
            "27/27 [==============================] - 2s 87ms/step - loss: 0.1781 - accuracy: 0.9455\n",
            "Epoch 79/100\n",
            "27/27 [==============================] - 2s 87ms/step - loss: 0.1780 - accuracy: 0.9467\n",
            "Epoch 80/100\n",
            "27/27 [==============================] - 2s 88ms/step - loss: 0.1733 - accuracy: 0.9432\n",
            "Epoch 81/100\n",
            "27/27 [==============================] - 3s 101ms/step - loss: 0.1723 - accuracy: 0.9409\n",
            "Epoch 82/100\n",
            "27/27 [==============================] - 3s 118ms/step - loss: 0.1687 - accuracy: 0.9421\n",
            "Epoch 83/100\n",
            "27/27 [==============================] - 2s 89ms/step - loss: 0.1671 - accuracy: 0.9467\n",
            "Epoch 84/100\n",
            "27/27 [==============================] - 2s 90ms/step - loss: 0.1651 - accuracy: 0.9455\n",
            "Epoch 85/100\n",
            "27/27 [==============================] - 2s 90ms/step - loss: 0.1635 - accuracy: 0.9490\n",
            "Epoch 86/100\n",
            "27/27 [==============================] - 4s 138ms/step - loss: 0.1604 - accuracy: 0.9444\n",
            "Epoch 87/100\n",
            "27/27 [==============================] - 2s 90ms/step - loss: 0.1578 - accuracy: 0.9455\n",
            "Epoch 88/100\n",
            "27/27 [==============================] - 2s 90ms/step - loss: 0.1579 - accuracy: 0.9455\n",
            "Epoch 89/100\n",
            "27/27 [==============================] - 2s 88ms/step - loss: 0.1520 - accuracy: 0.9444\n",
            "Epoch 90/100\n",
            "27/27 [==============================] - 2s 88ms/step - loss: 0.1532 - accuracy: 0.9513\n",
            "Epoch 91/100\n",
            "27/27 [==============================] - 4s 139ms/step - loss: 0.1530 - accuracy: 0.9444\n",
            "Epoch 92/100\n",
            "27/27 [==============================] - 2s 87ms/step - loss: 0.1502 - accuracy: 0.9421\n",
            "Epoch 93/100\n",
            "27/27 [==============================] - 2s 87ms/step - loss: 0.1477 - accuracy: 0.9444\n",
            "Epoch 94/100\n",
            "27/27 [==============================] - 2s 89ms/step - loss: 0.1485 - accuracy: 0.9409\n",
            "Epoch 95/100\n",
            "27/27 [==============================] - 3s 107ms/step - loss: 0.1461 - accuracy: 0.9479\n",
            "Epoch 96/100\n",
            "27/27 [==============================] - 4s 161ms/step - loss: 0.1438 - accuracy: 0.9502\n",
            "Epoch 97/100\n",
            "27/27 [==============================] - 2s 87ms/step - loss: 0.1434 - accuracy: 0.9444\n",
            "Epoch 98/100\n",
            "27/27 [==============================] - 2s 87ms/step - loss: 0.1445 - accuracy: 0.9432\n",
            "Epoch 99/100\n",
            "27/27 [==============================] - 2s 87ms/step - loss: 0.1439 - accuracy: 0.9409\n",
            "Epoch 100/100\n",
            "27/27 [==============================] - 3s 122ms/step - loss: 0.1390 - accuracy: 0.9490\n"
          ]
        },
        {
          "output_type": "execute_result",
          "data": {
            "text/plain": [
              "<keras.src.callbacks.History at 0x7cf0ccfa4e50>"
            ]
          },
          "metadata": {},
          "execution_count": 30
        }
      ]
    },
    {
      "cell_type": "markdown",
      "source": [
        "Prediction:"
      ],
      "metadata": {
        "id": "9VglvHpO5n0-"
      }
    },
    {
      "cell_type": "code",
      "source": [
        "import time\n",
        "import numpy as np\n",
        "text=\"Hi\"\n",
        "# tokenize\n",
        "# padding maxlen of input is 56\n",
        "# prediction\n",
        "for i in range(14):\n",
        "  tokenized_text=tokenizer.texts_to_sequences([text])\n",
        "  padded_tokenized_text=pad_sequences(tokenized_text,maxlen=56,padding='pre')\n",
        "  pos=np.argmax(model.predict(padded_tokenized_text))\n",
        "  # tokenizer.word_index is dictionary and you use items() in dictionary\n",
        "  for word,index in tokenizer.word_index.items():\n",
        "    if index==pos:\n",
        "      text=text + \" \" + word\n",
        "      print(text)\n",
        "      time.sleep(1)\n",
        "\n"
      ],
      "metadata": {
        "colab": {
          "base_uri": "https://localhost:8080/"
        },
        "id": "0JaIi8Z44UxD",
        "outputId": "16b546a8-452c-4467-993c-75509e4a3c5e"
      },
      "execution_count": 53,
      "outputs": [
        {
          "output_type": "stream",
          "name": "stdout",
          "text": [
            "1/1 [==============================] - 0s 27ms/step\n",
            "Hi no\n",
            "1/1 [==============================] - 0s 30ms/step\n",
            "Hi no nlp\n",
            "1/1 [==============================] - 0s 28ms/step\n",
            "Hi no nlp and\n",
            "1/1 [==============================] - 0s 28ms/step\n",
            "Hi no nlp and deep\n",
            "1/1 [==============================] - 0s 30ms/step\n",
            "Hi no nlp and deep learning\n",
            "1/1 [==============================] - 0s 29ms/step\n",
            "Hi no nlp and deep learning both\n",
            "1/1 [==============================] - 0s 48ms/step\n",
            "Hi no nlp and deep learning both are\n",
            "1/1 [==============================] - 0s 49ms/step\n",
            "Hi no nlp and deep learning both are not\n",
            "1/1 [==============================] - 0s 31ms/step\n",
            "Hi no nlp and deep learning both are not a\n",
            "1/1 [==============================] - 0s 29ms/step\n",
            "Hi no nlp and deep learning both are not a part\n",
            "1/1 [==============================] - 0s 30ms/step\n",
            "Hi no nlp and deep learning both are not a part of\n",
            "1/1 [==============================] - 0s 29ms/step\n",
            "Hi no nlp and deep learning both are not a part of this\n",
            "1/1 [==============================] - 0s 44ms/step\n",
            "Hi no nlp and deep learning both are not a part of this program’s\n",
            "1/1 [==============================] - 0s 29ms/step\n",
            "Hi no nlp and deep learning both are not a part of this program’s curriculum\n"
          ]
        }
      ]
    },
    {
      "cell_type": "code",
      "source": [],
      "metadata": {
        "id": "W44QkPCW7NiR"
      },
      "execution_count": null,
      "outputs": []
    }
  ]
}